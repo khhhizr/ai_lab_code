{
 "cells": [
  {
   "cell_type": "markdown",
   "metadata": {},
   "source": [
    "# AI Lab Practical 6"
   ]
  },
  {
   "cell_type": "markdown",
   "metadata": {},
   "source": [
    "Name : Saiyyed Khhizr Aalam\n",
    "Roll N0. : 86\n",
    "Batch : B4"
   ]
  },
  {
   "cell_type": "markdown",
   "metadata": {},
   "source": [
    "Aim : Write a program to implement perceptron learning algorithm for two input AND, OR, NAND and NOR gate classification. Initialize weights randomly in 1 to 10. Use similar initial weights for learning all the GATE classifications. Display number of iterations required in each case."
   ]
  },
  {
   "cell_type": "code",
   "execution_count": 1,
   "metadata": {},
   "outputs": [
    {
     "name": "stdout",
     "output_type": "stream",
     "text": [
      "Initial Weights :  [0.41570176 0.50230787 0.96505655]\n",
      "The no of runs is:  2\n",
      "The no of iterations is:  5\n",
      "Final Weigths :  [4.41570176 0.50230787 0.96505655]\n"
     ]
    }
   ],
   "source": [
    "import numpy as np\n",
    "\n",
    "def sign(a):\n",
    "    if (a > 0):\n",
    "        return 1\n",
    "    elif (a < 0):\n",
    "        return -1\n",
    "    else:\n",
    "        return 0\n",
    "\n",
    "def and_perceptron(w, inp):\n",
    "    out = neg(val(inp[0]) and val(inp[1]))\n",
    "    e = np.dot(inp, w)\n",
    "    s = sign(e)\n",
    "    delta = out - s\n",
    "    error = (delta) * inp\n",
    "    w += np.transpose(error)\n",
    "    return w\n",
    "\n",
    "def or_perceptron(w, inp):\n",
    "    out = neg(val(inp[0]) or val(inp[1]))\n",
    "    e = np.dot(inp, w)\n",
    "    s = sign(e)\n",
    "    delta = out - s\n",
    "    error = (delta) * inp\n",
    "    w += np.transpose(error)\n",
    "    return w\n",
    "\n",
    "def val(a):\n",
    "    if (a == -1):\n",
    "        return 0\n",
    "    return a\n",
    "\n",
    "def neg(a):\n",
    "    if (a == 0):\n",
    "        return -1\n",
    "    return a\n",
    "\n",
    "inpt=np.array([[-1,1,1],[-1,-1,1],[1,-1,1],[1,1,1]])\n",
    "\n",
    "import random\n",
    "\n",
    "r = 1\n",
    "cnt = 0\n",
    "i = 1\n",
    "w = np.array([random.random(), random.random(), random.random()])\n",
    "print(\"Initial Weights : \", w)\n",
    "while (cnt != len(inpt)):\n",
    "    wn = or_perceptron(w, inpt[(i - 1) % len(inpt)])\n",
    "    # print(wn)\n",
    "    if (wn.all() == w.all()):\n",
    "        cnt += 1\n",
    "    else:\n",
    "        cnt = 0\n",
    "    w = wn\n",
    "    if (i == len(inpt)):\n",
    "        r += 1\n",
    "    i += 1\n",
    "    \n",
    "print(\"The no of runs is: \", r)\n",
    "print(\"The no of iterations is: \", i)\n",
    "print(\"Final Weigths : \", w)"
   ]
  },
  {
   "cell_type": "code",
   "execution_count": null,
   "metadata": {},
   "outputs": [],
   "source": []
  }
 ],
 "metadata": {
  "kernelspec": {
   "display_name": "Python 3",
   "language": "python",
   "name": "python3"
  },
  "language_info": {
   "codemirror_mode": {
    "name": "ipython",
    "version": 3
   },
   "file_extension": ".py",
   "mimetype": "text/x-python",
   "name": "python",
   "nbconvert_exporter": "python",
   "pygments_lexer": "ipython3",
   "version": "3.8.3"
  }
 },
 "nbformat": 4,
 "nbformat_minor": 4
}
