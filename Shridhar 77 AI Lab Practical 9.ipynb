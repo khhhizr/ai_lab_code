{
 "cells": [
  {
   "cell_type": "code",
   "execution_count": 5,
   "metadata": {},
   "outputs": [
    {
     "name": "stdout",
     "output_type": "stream",
     "text": [
      "     Outlook Temperature Humidity    Wind PlayTennis\n",
      "0      Sunny         Hot     High    Weak         No\n",
      "1      Sunny         Hot     High  Strong         No\n",
      "2   Overcast         Hot     High    Weak        Yes\n",
      "3       Rain        Mild     High    Weak        Yes\n",
      "4       Rain        Cool   Normal    Weak        Yes\n",
      "5       Rain        Cool   Normal  Strong         No\n",
      "6   Overcast        Cool   Normal  Strong        Yes\n",
      "7      Sunny        Mild     High    Weak         No\n",
      "8      Sunny        Cool   Normal    Weak        Yes\n",
      "9       Rain        Mild   Normal    Weak        Yes\n",
      "10     Sunny        Mild   Normal  Strong        Yes\n",
      "11  Overcast        Mild     High  Strong        Yes\n",
      "12  Overcast         Hot   Normal    Weak        Yes\n",
      "13      Rain        Mild     High  Strong         No\n"
     ]
    }
   ],
   "source": [
    "# Shridhar Ashtikar B-77\n",
    "# AI Practical 9\n",
    "# Write a program to implement Naïve Bayes algorithm.\n",
    "\n",
    "import numpy as np\n",
    "import pandas as pd\n",
    "import math\n",
    "\n",
    "data = pd.read_csv(\"data.csv\")\n",
    "print(data)\n",
    "\n",
    "column_names = []\n",
    "for row in data:\n",
    "    column_names.append(row)\n",
    "column_names\n",
    "\n",
    "yesCount=0\n",
    "noCount=0\n",
    "dataset=np.array(data[column_names[-1]])\n",
    "for i in range(len(dataset)):\n",
    "    if(dataset[i]==\"Yes\"):\n",
    "        yesCount=yesCount+1\n",
    "    elif(dataset[i]==\"No\"):\n",
    "        noCount=noCount+1"
   ]
  },
  {
   "cell_type": "code",
   "execution_count": 6,
   "metadata": {},
   "outputs": [],
   "source": [
    "def probability(index,feature):\n",
    "    unique_values=data[feature].unique()\n",
    "    dataset1=np.array(data[column_names[index]])\n",
    "    dataset2=np.array(data[column_names[-1]])\n",
    "    computations=[]\n",
    "    for value in unique_values:\n",
    "        yes=0\n",
    "        countNo=0\n",
    "        for row in range(len(dataset1)):\n",
    "            if(dataset1[row]==value and dataset2[row]==\"Yes\"):\n",
    "                yes=yes+1\n",
    "            elif(dataset1[row]==value and dataset2[row]==\"No\"):\n",
    "                countNo=countNo+1\n",
    "        computations.append([feature,value,yes,countNo,float(yes)/float(yesCount),float(countNo)/float(noCount)])\n",
    "    return computations"
   ]
  },
  {
   "cell_type": "code",
   "execution_count": 7,
   "metadata": {},
   "outputs": [
    {
     "name": "stdout",
     "output_type": "stream",
     "text": [
      "Probability of Playing Today:  0.09523809523809525 \n",
      "Probability of Not Playing Today:  0.028571428571428577\n",
      "0.7692307692307692\n",
      "0.23076923076923078\n",
      "\n",
      "\n",
      "Prediction: Will Play Tennis\n"
     ]
    }
   ],
   "source": [
    "outlookComputations=probability(0,column_names[0])\n",
    "tempComputations=probability(1,column_names[1])\n",
    "humidityComputations=probability(2,column_names[2])\n",
    "windComputations=probability(3,column_names[3])\n",
    "\n",
    "today=[\"Rainy\",\"Hot\",\"Normal\",\"False\"]\n",
    "\n",
    "P_Yes_Today=1\n",
    "for i in outlookComputations:\n",
    "    if(i[1]==today[0]):\n",
    "        P_Yes_Today=P_Yes_Today*((i[2])/(yesCount))\n",
    "\n",
    "for i in tempComputations:\n",
    "    if(i[1]==today[1]):\n",
    "        P_Yes_Today=P_Yes_Today*((i[2])/(yesCount))\n",
    "        \n",
    "for i in humidityComputations:\n",
    "    if(i[1]==today[2]):\n",
    "        P_Yes_Today=P_Yes_Today*((i[2])/(yesCount))\n",
    "\n",
    "for i in windComputations:\n",
    "    if(i[1]==today[3]):\n",
    "        P_Yes_Today=P_Yes_Today*((i[2])/(yesCount))\n",
    "P_Yes_Today=P_Yes_Today*((yesCount)/len(data))\n",
    "\n",
    "P_No_Today=1\n",
    "for i in outlookComputations:\n",
    "    if(i[1]==today[0]):\n",
    "        P_No_Today=P_No_Today*((i[3])/(noCount))\n",
    "\n",
    "for i in tempComputations:\n",
    "    if(i[1]==today[1]):\n",
    "        P_No_Today=P_No_Today*((i[3])/(noCount))\n",
    "        \n",
    "for i in humidityComputations:\n",
    "    if(i[1]==today[2]):\n",
    "        P_No_Today=P_No_Today*((i[3])/(noCount))\n",
    "\n",
    "for i in windComputations:\n",
    "    if(i[1]==today[3]):\n",
    "        P_No_Today=P_No_Today*((i[3])/(noCount))\n",
    "P_No_Today=P_No_Today*((noCount)/len(data))\n",
    "\n",
    "print(\"Probability of Playing Today: \",P_Yes_Today,\"\\nProbability of Not Playing Today: \",P_No_Today)\n",
    "\n",
    "P_Yes=float(P_Yes_Today)/float(P_Yes_Today+P_No_Today)\n",
    "print(P_Yes)\n",
    "P_No=float(P_No_Today)/float(P_Yes_Today+P_No_Today)\n",
    "print(P_No)\n",
    "\n",
    "if(P_Yes>P_No):\n",
    "    print(\"\\n\\nPrediction: Will Play Tennis\")\n",
    "else:\n",
    "    print(\"\\n\\nPrediction: Will Not Play Tennis\")"
   ]
  }
 ],
 "metadata": {
  "kernelspec": {
   "display_name": "Python 3",
   "language": "python",
   "name": "python3"
  },
  "language_info": {
   "codemirror_mode": {
    "name": "ipython",
    "version": 3
   },
   "file_extension": ".py",
   "mimetype": "text/x-python",
   "name": "python",
   "nbconvert_exporter": "python",
   "pygments_lexer": "ipython3",
   "version": "3.8.3"
  }
 },
 "nbformat": 4,
 "nbformat_minor": 4
}
