{
 "cells": [
  {
   "cell_type": "markdown",
   "metadata": {},
   "source": [
    "                                                      # Practical -01\n",
    "B-76 \n",
    "SHIVAM GUPTA \n"
   ]
  },
  {
   "cell_type": "markdown",
   "metadata": {},
   "source": [
    "Problem Statement :\n",
    "Write a program to implement Breadth First Search.\n",
    "Take a graph and start/goal node an input.\n",
    "Your job is to find goal node. Print the total cost and path"
   ]
  },
  
  {
   "cell_type": "code",
   "execution_count": 2,
   "metadata": {},
   "outputs": [
    {
     "name": "stdout",
     "output_type": "stream",
     "text": [
      "Path from  Timisoara  to  Fagaras\n",
      " 1  ->  Timisoara\n",
      " 2  ->  Lugoj\n",
      " 3  ->  Arad\n",
      " 4  ->  Mehadia\n",
      " 5  ->  Sibiu\n",
      " 6  ->  Fagaras\n",
      "The cost to reach from Timisoara to Fagaras  -> 688\n"
     ]
    }
   ],
   "source": [
    "graph = {\n",
    "    \"Oradea\": [[\"Zerind\",71],[\"Sibiu\",151]],\n",
    "    \"Zerind\": [[\"Arad\",75],[\"Oradea\",71]],\n",
    "    \"Arad\": [[\"Timisoara\",118],[\"Sibiu\",140],[\"Zerind\",75]],\n",
    "    \"Timisoara\": [[\"Lugoj\",111],[\"Arad\",118]],\n",
    "    \"Lugoj\": [[\"Mehadia\",70],[\"Timisoara\",111]],\n",
    "    \"Mehadia\":[[\"Drobeta\",75],[\"Lugoj\",70]],\n",
    "    \"Drobeta\": [[\"Craiova\",120],[\"Mehadia\",75]],\n",
    "    \"Craiova\": [[\"Drobeta\",120],[\"Rimnicu Vilcca\",146],[\"Pitesti\",138]],\n",
    "    \"Fagaras\": [[\"Bucharest\",211],[\"Sibiu\",99]],\n",
    "    \"Sibiu\": [[\"Fagaras\",99],[\"Arad\",140],[\"Rimnicu Vilcca\",80],[\"Oradea\",151]],\n",
    "    \"Rimnicu Vilcca\": [[\"Sibiu\",80],[\"Craiova\",146],[\"Pitesti\",97]],\n",
    "    \"Pitesti\": [[\"Rimnicu Vilcca\",97],[\"Craiova\",138],[\"Bucharest\",101]],\n",
    "    \"Bucharest\":[[\"Fagaras\",211],[\"Giurgiu\",90],[\"Urziceni\",85],[\"Pitesti\",101]],\n",
    "    \"Urziceni\":[[\"Bucharest\",85],[\"Hirsova\",86],[\"Vaslui\",142]],\n",
    "    \"Hirsova\":[[\"Urziceni\",98],[\"Eforie\",86]],\n",
    "    \"Eforie\":[[\"Hirsova\",86]],\n",
    "    \"Vaslui\":[[\"Iasi\",92],[\"Urziceni\",142]],\n",
    "    \"Iasi\":[[\"Vaslui\",92],[\"Neamt\",87]],\n",
    "    \"Neamt\":[[\"Iasi\",87]],\n",
    "    \"Giurgiu\":[[\"Bucharest\",90]]   \n",
    "}\n",
    "def bfs(explored, graph, currNode):\n",
    "    cost=0\n",
    "    explored.append(currNode)\n",
    "    frontier = []\n",
    "    frontier.append(currNode)\n",
    "    count=1\n",
    "    while frontier:\n",
    "        node = frontier.pop(0)\n",
    "        \n",
    "        print(\"\",count,\" -> \",node)\n",
    "        count+=1\n",
    "        for neighbour in graph[node]:\n",
    "            if neighbour[0] not in explored:\n",
    "                cost+=neighbour[1]\n",
    "                if(neighbour[0]==last):\n",
    "                    print(\"\",count,\" -> \",neighbour[0])\n",
    "                    return cost\n",
    "                explored.append(neighbour[0])\n",
    "                frontier.append(neighbour[0])\n",
    "\n",
    "\n",
    "\n",
    "# l=[\"Arad\",\"Timisoara\",\"Sibiu\",\"Lugoj\",\"Mehadia\",\"Drobeta\",\"Craiova\",\"Rimnicu Vilcca\",\"Pitesti\",\"Fagaras\",\n",
    "#       \"Oradea\",\"Zerind\",\"Eforie\",\"Neamt\",\"Iasi\",\"Vaslui\",\"Hirsova\",\"Urziceni\",\"Bucharest\",\"Giurgiu\"]\n",
    "\n",
    "first=\"Timisoara\"\n",
    "last= \"Fagaras\"\n",
    "print(\"Path from \",first,\" to \",last)\n",
    "cost=bfs([], graph, first)\n",
    "print(\"The cost to reach from\",first,\"to\",last,\" ->\",cost)"
   ]
  },
  {
   "cell_type": "code",
   "execution_count": null,
   "metadata": {},
   "outputs": [],
   "source": []
  }
 ],
 "metadata": {
  "kernelspec": {
   "display_name": "Python 3",
   "language": "python",
   "name": "python3"
  },
  "language_info": {
   "codemirror_mode": {
    "name": "ipython",
    "version": 3
   },
   "file_extension": ".py",
   "mimetype": "text/x-python",
   "name": "python",
   "nbconvert_exporter": "python",
   "pygments_lexer": "ipython3",
   "version": "3.8.3"
  }
 },
 "nbformat": 4,
 "nbformat_minor": 2
}
